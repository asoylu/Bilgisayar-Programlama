{
 "cells": [
  {
   "cell_type": "code",
   "execution_count": 8,
   "id": "ab5ab6da",
   "metadata": {},
   "outputs": [
    {
     "name": "stdout",
     "output_type": "stream",
     "text": [
      "test text\n",
      "10 test text\n",
      "The answer is= 10\n",
      "The answer is 10 and string contains test text\n"
     ]
    }
   ],
   "source": [
    "a=10\n",
    "b='test text'\n",
    "print (b)\n",
    "print (a,b)\n",
    "type(a)\n",
    "type(b)\n",
    "print('The answer is=',a)\n",
    "print('The answer is',a,'and string contains',b)"
   ]
  },
  {
   "cell_type": "code",
   "execution_count": 9,
   "id": "39111c62",
   "metadata": {},
   "outputs": [
    {
     "name": "stdout",
     "output_type": "stream",
     "text": [
      "a=10 b=20\n"
     ]
    }
   ],
   "source": [
    "print('a=%d b=%d'%(10,20))"
   ]
  },
  {
   "cell_type": "code",
   "execution_count": 10,
   "id": "ef283f68",
   "metadata": {},
   "outputs": [
    {
     "name": "stdout",
     "output_type": "stream",
     "text": [
      "Pi= 3.14\n"
     ]
    }
   ],
   "source": [
    "from math import pi\n",
    "print('Pi=%5.2f'%pi)"
   ]
  },
  {
   "cell_type": "code",
   "execution_count": 14,
   "id": "531e52c5",
   "metadata": {},
   "outputs": [
    {
     "name": "stdout",
     "output_type": "stream",
     "text": [
      "Pi=     3.14159265\n"
     ]
    }
   ],
   "source": [
    "print('Pi=%15.8f'%pi)"
   ]
  },
  {
   "cell_type": "code",
   "execution_count": 15,
   "id": "11fecdcd",
   "metadata": {},
   "outputs": [
    {
     "name": "stdout",
     "output_type": "stream",
     "text": [
      "Pi=3\n"
     ]
    }
   ],
   "source": [
    "print('Pi=%d'%pi)"
   ]
  },
  {
   "cell_type": "code",
   "execution_count": 17,
   "id": "2c8431b9",
   "metadata": {},
   "outputs": [],
   "source": [
    "out_file=open('ders4.txt','w')\n",
    "out_file.write('writing text')\n",
    "out_file.close()"
   ]
  },
  {
   "cell_type": "code",
   "execution_count": 26,
   "id": "0f5ad94c",
   "metadata": {},
   "outputs": [],
   "source": [
    "out_file=open('bilgisayar.txt','w')\n",
    "out_file.write('uyuma sinif \\n yoksa -10 geliyor \\n sözüm dinleyemenlere..')\n",
    "out_file.close()"
   ]
  },
  {
   "cell_type": "code",
   "execution_count": 32,
   "id": "287c4eef",
   "metadata": {},
   "outputs": [
    {
     "name": "stdout",
     "output_type": "stream",
     "text": [
      "uyuma sinif \n",
      " yoksa -10 geliyor \n",
      " dinleyin..eyemenlere..\n"
     ]
    }
   ],
   "source": [
    "out_file=open('bilgisayar.txt','r')\n",
    "icerik=out_file.read()\n",
    "out_file.close()\n",
    "print(icerik)"
   ]
  },
  {
   "cell_type": "code",
   "execution_count": 35,
   "id": "7ee93782",
   "metadata": {},
   "outputs": [],
   "source": [
    "f=open('table_lec4.txt','w')\n",
    "for i in range(1,11):\n",
    "    f.write('%2d*17=%4d\\n'%(i,i*20))\n",
    "f.close()"
   ]
  },
  {
   "cell_type": "code",
   "execution_count": 37,
   "id": "9d26513c",
   "metadata": {},
   "outputs": [
    {
     "name": "stdout",
     "output_type": "stream",
     "text": [
      "-3.61  \n",
      "11.56  \n",
      "1.86   \n",
      "-1.12  \n",
      "3.38   \n",
      "0.62   \n",
      "5.66   \n",
      "0.41   \n",
      "4.05   \n",
      "2.53   \n",
      "8.58   \n",
      "4.63   \n",
      "1.73   \n",
      "-0.35  \n",
      "0.26   \n",
      "1.05   \n",
      "4.55   \n",
      "0.54   \n",
      "15.22  \n",
      "5.36   \n",
      "5.56   \n",
      "1.34   \n",
      "16.52  \n",
      "6.04   \n",
      "-2.41  \n",
      "-1.12  \n",
      "-1.88  \n",
      "7.61   \n",
      "1.11   \n",
      "5.39   \n",
      "7.96   \n",
      "4.19   \n",
      "1.34   \n",
      "-5.20  \n",
      "-2.03  \n",
      "-2.36  \n",
      "-2.31  \n",
      "2.29   \n",
      "-0.17  \n",
      "16.94  \n",
      "14.43  \n",
      "6.52   \n",
      "3.95   \n",
      "4.33   \n",
      "0.26   \n",
      "1.57   \n",
      "5.08   \n",
      "3.08   \n",
      "2.22   \n",
      "-1.48  \n",
      "1.58   \n",
      "3.57   \n",
      "0.87   \n",
      "-2.23  \n",
      "-3.46  \n",
      "-5.24  \n",
      "-5.33  \n",
      "-5.47  \n",
      "-2.99  \n",
      "6.63   \n",
      "10.91  \n",
      "9.93   \n",
      "2.48   \n",
      "19.39  \n",
      "8.89   \n",
      "4.09   \n",
      "1.69   \n",
      "-0.09  \n",
      "-0.69  \n",
      "3.47   \n",
      "2.51   \n",
      "7.00   \n",
      "0.07   \n",
      "10.04  \n",
      "5.55   \n",
      "2.45   \n",
      "-4.48  \n",
      "-5.25  \n",
      "-5.59  \n",
      "6.45   \n",
      "6.06   \n",
      "9.53   \n",
      "10.56  \n",
      "8.03   \n",
      "6.61   \n",
      "26.23  \n",
      "0.29   \n",
      "5.50   \n",
      "4.49   \n",
      "4.73   \n",
      "-0.47  \n",
      "1.25   \n",
      "6.09   \n",
      "2.83   \n",
      "1.77   \n",
      "-0.48  \n",
      "-0.39  \n",
      "-0.67  \n",
      "7.20   \n",
      "8.81   \n",
      "15.45  \n",
      "8.61   \n",
      "8.16   \n",
      "18.28  \n",
      "8.69   \n",
      "-0.16  \n",
      "-1.44  \n",
      "6.04   \n",
      "0.18   \n",
      "3.90   \n",
      "5.51   \n",
      "2.35   \n",
      "-0.00  \n",
      "0.42   \n",
      "-3.76  \n",
      "-4.00  \n",
      "-4.39  \n",
      "1.66   \n",
      "12.95  \n",
      "10.45  \n",
      "3.20   \n",
      "5.42   \n",
      "11.87  \n",
      "0.15   \n",
      "0.26   \n",
      "-0.13  \n",
      "0.52   \n",
      "1.43   \n",
      "0.47   \n",
      "1.86   \n",
      "-0.38  \n",
      "3.82   \n",
      "-3.72  \n",
      "-6.67  \n",
      "-6.52  \n",
      "3.18   \n",
      "12.50  \n",
      "13.82  \n",
      "12.09  \n",
      "13.87  \n",
      "1.08   \n",
      "4.36   \n",
      "3.78   \n",
      "3.77   \n",
      "3.06   \n",
      "2.51   \n",
      "2.72   \n",
      "4.79   \n",
      "25.94  \n",
      "4.92   \n",
      "-6.75  \n",
      "-6.70  \n",
      "-2.10  \n",
      "3.62   \n",
      "-1.65  \n",
      "5.06   \n",
      "6.91   \n",
      "13.32  \n",
      "8.88   \n",
      "-2.07  \n",
      "4.02   \n",
      "5.18   \n",
      "-2.02  \n",
      "-1.00  \n",
      "0.98   \n",
      "5.44   \n",
      "-6.05  \n",
      "2.88   \n",
      "-2.34  \n",
      "0.97   \n",
      "5.25   \n",
      "3.28   \n",
      "15.16  \n",
      "3.64   \n",
      "0.43   \n",
      "2.77   \n",
      "2.20   \n",
      "6.13   \n",
      "0.80   \n",
      "3.39   \n",
      "2.13   \n",
      "-5.11  \n",
      "9.41   \n",
      "6.57   \n",
      "2.93   \n",
      "-2.92  \n",
      "4.62   \n",
      "5.64   \n",
      "3.24   \n",
      "6.75   \n",
      "1.77   \n",
      "-4.09  \n",
      "-1.07  \n",
      "-5.52  \n",
      "-1.86  \n",
      "11.11  \n",
      "5.91   \n",
      "-1.10  \n",
      "-2.70  \n",
      "-0.19  \n",
      "4.56   \n",
      "-2.55  \n",
      "2.30   \n",
      "-5.76  \n",
      "-0.37  \n",
      "1.72   \n",
      "-5.85  \n",
      "7.92   \n",
      "\n"
     ]
    }
   ],
   "source": [
    "file=open('udl-iso.txt','r')\n",
    "icerik=file.read()\n",
    "file.close()\n",
    "print(icerik)"
   ]
  },
  {
   "cell_type": "code",
   "execution_count": 38,
   "id": "9f1d72d3",
   "metadata": {},
   "outputs": [],
   "source": [
    "file=open('soylu_emir.txt','w')\n",
    "file.close()"
   ]
  },
  {
   "cell_type": "code",
   "execution_count": 39,
   "id": "b1555d39",
   "metadata": {},
   "outputs": [],
   "source": [
    "file=open('soylu_emir.txt','w')\n",
    "file.write('Emir Soylu')\n",
    "file.close()"
   ]
  },
  {
   "cell_type": "code",
   "execution_count": 42,
   "id": "b64eead5",
   "metadata": {},
   "outputs": [
    {
     "name": "stdout",
     "output_type": "stream",
     "text": [
      "Emir Soylu\n"
     ]
    }
   ],
   "source": [
    "with open('soylu_emir.txt','r',encoding='utf-8') as file:\n",
    "    content=file.read()\n",
    "    print(content)"
   ]
  },
  {
   "cell_type": "code",
   "execution_count": 46,
   "id": "eaf14607",
   "metadata": {},
   "outputs": [],
   "source": [
    "class Circle:\n",
    "    pi=3.14\n",
    "    def __init__(self,yaricap):\n",
    "        self.yaricap=yaricap\n",
    "    def cevre(self):\n",
    "        return 2*self.pi*self.yaricap\n",
    "    def alan(self):\n",
    "        return self.pi*(self.yaricap**2)"
   ]
  },
  {
   "cell_type": "code",
   "execution_count": 49,
   "id": "4a9fe118",
   "metadata": {},
   "outputs": [
    {
     "data": {
      "text/plain": [
       "452.16"
      ]
     },
     "execution_count": 49,
     "metadata": {},
     "output_type": "execute_result"
    }
   ],
   "source": [
    "c1=Circle(12)\n",
    "c1.cevre()\n",
    "c1.alan()"
   ]
  },
  {
   "cell_type": "code",
   "execution_count": 53,
   "id": "87916a6f",
   "metadata": {},
   "outputs": [],
   "source": [
    "class Person:\n",
    "    adress='No information'\n",
    "    def __init__(self,name,year):\n",
    "        self.name=name\n",
    "        self.year=year\n",
    "        print('init metodu calisti')\n",
    "    def intro(self):\n",
    "        print('Hello. I am '+ self.name, 'I was born in ' +self.year)"
   ]
  },
  {
   "cell_type": "code",
   "execution_count": 55,
   "id": "3132ed53",
   "metadata": {},
   "outputs": [
    {
     "name": "stdout",
     "output_type": "stream",
     "text": [
      "init metodu calisti\n",
      "Hello. I am Ugurcan I was born in 1996\n"
     ]
    }
   ],
   "source": [
    "p1=Person('Ugurcan','1996')\n",
    "p1.intro()"
   ]
  },
  {
   "cell_type": "code",
   "execution_count": 58,
   "id": "f0201bca",
   "metadata": {},
   "outputs": [],
   "source": [
    "class Question:\n",
    "    def __init__(self,text,choices,answer):\n",
    "        self.text=text\n",
    "        self.choices=choices\n",
    "        self.answer=answer\n",
    "    def checkanswer(self,answer):\n",
    "        return self.answer==answer\n",
    "q1=Question('En iyi dil hangisidir?',['C','Python','Java'],'Python')"
   ]
  },
  {
   "cell_type": "code",
   "execution_count": 61,
   "id": "90d2b3cf",
   "metadata": {},
   "outputs": [
    {
     "name": "stdout",
     "output_type": "stream",
     "text": [
      "True\n"
     ]
    }
   ],
   "source": [
    "print(q1.checkanswer('Python'))"
   ]
  },
  {
   "cell_type": "code",
   "execution_count": null,
   "id": "d00e7538",
   "metadata": {},
   "outputs": [],
   "source": []
  }
 ],
 "metadata": {
  "kernelspec": {
   "display_name": "Python 3",
   "language": "python",
   "name": "python3"
  },
  "language_info": {
   "codemirror_mode": {
    "name": "ipython",
    "version": 3
   },
   "file_extension": ".py",
   "mimetype": "text/x-python",
   "name": "python",
   "nbconvert_exporter": "python",
   "pygments_lexer": "ipython3",
   "version": "3.8.8"
  }
 },
 "nbformat": 4,
 "nbformat_minor": 5
}

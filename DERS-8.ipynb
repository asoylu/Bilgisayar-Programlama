{
 "cells": [
  {
   "cell_type": "code",
   "execution_count": 1,
   "id": "4b18caff",
   "metadata": {},
   "outputs": [
    {
     "name": "stdout",
     "output_type": "stream",
     "text": [
      "[0.  0.5 1.  1.5]\n"
     ]
    }
   ],
   "source": [
    "import numpy as N\n",
    "x=N.array([0,0.5,1,1.5])\n",
    "print(x)"
   ]
  },
  {
   "cell_type": "code",
   "execution_count": 4,
   "id": "9ee06d38",
   "metadata": {},
   "outputs": [
    {
     "name": "stdout",
     "output_type": "stream",
     "text": [
      "[0.  0.5 1.  1.5]\n"
     ]
    }
   ],
   "source": [
    "x=N.arange(0,2,0.5)\n",
    "print(x)"
   ]
  },
  {
   "cell_type": "code",
   "execution_count": 7,
   "id": "bd650df6",
   "metadata": {},
   "outputs": [
    {
     "name": "stdout",
     "output_type": "stream",
     "text": [
      "[0. 0. 0. 0.]\n"
     ]
    }
   ],
   "source": [
    "x=N.zeros(4)\n",
    "print(x)"
   ]
  },
  {
   "cell_type": "code",
   "execution_count": 10,
   "id": "a41f5510",
   "metadata": {},
   "outputs": [
    {
     "name": "stdout",
     "output_type": "stream",
     "text": [
      "[3.4 0.  4.  0. ]\n",
      "3.4\n",
      "[3.4 0.  4. ]\n"
     ]
    }
   ],
   "source": [
    "x=N.zeros(4)\n",
    "x[0]=3.4\n",
    "x[2]=4\n",
    "print(x)\n",
    "print(x[0])\n",
    "print(x[0:-1])"
   ]
  },
  {
   "cell_type": "code",
   "execution_count": 14,
   "id": "a331ed5c",
   "metadata": {},
   "outputs": [
    {
     "name": "stdout",
     "output_type": "stream",
     "text": [
      "[0.         0.47942554 0.84147098 0.99749499]\n"
     ]
    }
   ],
   "source": [
    "x=N.arange(0,2,0.5)\n",
    "print(N.sin(x))"
   ]
  },
  {
   "cell_type": "code",
   "execution_count": 17,
   "id": "6c47eb52",
   "metadata": {},
   "outputs": [
    {
     "name": "stdout",
     "output_type": "stream",
     "text": [
      "[[1 2 3]\n",
      " [4 5 6]]\n"
     ]
    }
   ],
   "source": [
    "import numpy as np\n",
    "x=np.array([[1,2,3],[4,5,6]])\n",
    "print(x)"
   ]
  },
  {
   "cell_type": "code",
   "execution_count": 20,
   "id": "9ab0b751",
   "metadata": {},
   "outputs": [
    {
     "name": "stdout",
     "output_type": "stream",
     "text": [
      "[[0. 0. 0. 0.]\n",
      " [0. 0. 0. 0.]\n",
      " [0. 0. 0. 0.]\n",
      " [0. 0. 0. 0.]\n",
      " [0. 0. 0. 0.]]\n"
     ]
    }
   ],
   "source": [
    "x=np.zeros((5,4))\n",
    "print(x)"
   ]
  },
  {
   "cell_type": "code",
   "execution_count": 23,
   "id": "2404900c",
   "metadata": {},
   "outputs": [
    {
     "name": "stdout",
     "output_type": "stream",
     "text": [
      "[[0. 0. 0. 0.]\n",
      " [0. 0. 0. 0.]\n",
      " [0. 5. 0. 0.]\n",
      " [0. 0. 0. 0.]\n",
      " [0. 0. 0. 0.]]\n"
     ]
    },
    {
     "data": {
      "text/plain": [
       "(5, 4)"
      ]
     },
     "execution_count": 23,
     "metadata": {},
     "output_type": "execute_result"
    }
   ],
   "source": [
    "x[2,1]=5\n",
    "print(x)\n",
    "x.shape"
   ]
  },
  {
   "cell_type": "code",
   "execution_count": 28,
   "id": "316d41b3",
   "metadata": {},
   "outputs": [
    {
     "data": {
      "text/plain": [
       "4"
      ]
     },
     "execution_count": 28,
     "metadata": {},
     "output_type": "execute_result"
    }
   ],
   "source": [
    "x=np.array([[1,2,3],[4,5,6]])\n",
    "x[1,0]"
   ]
  },
  {
   "cell_type": "code",
   "execution_count": 30,
   "id": "a78706ae",
   "metadata": {},
   "outputs": [
    {
     "name": "stdout",
     "output_type": "stream",
     "text": [
      "[ 1  4 10]\n"
     ]
    }
   ],
   "source": [
    "import numpy as np\n",
    "a=np.array([1,4,10])\n",
    "tuple(a)\n",
    "print (a)"
   ]
  },
  {
   "cell_type": "code",
   "execution_count": 35,
   "id": "16a06214",
   "metadata": {},
   "outputs": [
    {
     "name": "stdout",
     "output_type": "stream",
     "text": [
      "[0.70659577 0.7510108  0.6080888  0.99615751 0.03653974]\n"
     ]
    }
   ],
   "source": [
    "import numpy as np\n",
    "import numpy.random\n",
    "A=numpy.random.rand(5,5)#matris\n",
    "x=numpy.random.rand(5)#vektör\n",
    "b=np.dot(A,x)\n",
    "print(x)"
   ]
  },
  {
   "cell_type": "code",
   "execution_count": 37,
   "id": "cd7ecf02",
   "metadata": {},
   "outputs": [
    {
     "name": "stdout",
     "output_type": "stream",
     "text": [
      "[11. -2.]\n"
     ]
    }
   ],
   "source": [
    "import numpy.linalg as LA\n",
    "A=([[3,5],[7,-2]])\n",
    "b=([23,81])\n",
    "x=LA.solve(A,b)\n",
    "print(x)"
   ]
  },
  {
   "cell_type": "code",
   "execution_count": 40,
   "id": "327f5500",
   "metadata": {},
   "outputs": [
    {
     "name": "stdout",
     "output_type": "stream",
     "text": [
      "[ 6.35234996 -5.35234996]\n",
      "[[ 0.90190722 -0.64233228]\n",
      " [ 0.43192981  0.76642628]]\n"
     ]
    }
   ],
   "source": [
    "import numpy\n",
    "import numpy.linalg as LA\n",
    "A=([[3,7],[4,-2]])\n",
    "evalues,evectors=LA.eig(A)\n",
    "print(evalues)\n",
    "print(evectors)\n"
   ]
  },
  {
   "cell_type": "code",
   "execution_count": 50,
   "id": "f9d45fcd",
   "metadata": {},
   "outputs": [
    {
     "data": {
      "text/plain": [
       "<function matplotlib.pyplot.show(close=None, block=None)>"
      ]
     },
     "execution_count": 50,
     "metadata": {},
     "output_type": "execute_result"
    },
    {
     "data": {
      "image/png": "[encoded data removed]",
      "text/plain": [
       "<Figure size 432x288 with 1 Axes>"
      ]
     },
     "metadata": {
      "needs_background": "light"
     },
     "output_type": "display_data"
    }
   ],
   "source": [
    "import numpy as np\n",
    "xdata=np.array([0.0,1.0,2.0,3.0,4.0,5.0])\n",
    "ydata=np.array([0.0,0.8,.9,0.1,-0.8,-1.0])\n",
    "z=np.polyfit(xdata,ydata,5)\n",
    "p=np.poly1d(z)\n",
    "xs=[0.1*i for i in range(50)]\n",
    "ys=[p(x) for x in xs]\n",
    "import pylab\n",
    "pylab.plot(xdata,ydata,'o',label='data')\n",
    "pylab.plot(xs,ys,label='fitted curve')\n",
    "pylab.ylabel('y')\n",
    "pylab.xlabel('x')\n",
    "pylab.show"
   ]
  },
  {
   "cell_type": "code",
   "execution_count": null,
   "id": "9ab56ec4",
   "metadata": {},
   "outputs": [],
   "source": []
  }
 ],
 "metadata": {
  "kernelspec": {
   "display_name": "Python 3",
   "language": "python",
   "name": "python3"
  },
  "language_info": {
   "codemirror_mode": {
    "name": "ipython",
    "version": 3
   },
   "file_extension": ".py",
   "mimetype": "text/x-python",
   "name": "python",
   "nbconvert_exporter": "python",
   "pygments_lexer": "ipython3",
   "version": "3.8.8"
  }
 },
 "nbformat": 4,
 "nbformat_minor": 5
}

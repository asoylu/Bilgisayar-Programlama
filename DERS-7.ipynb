{
 "cells": [
  {
   "cell_type": "code",
   "execution_count": 6,
   "id": "74b86df1",
   "metadata": {},
   "outputs": [
    {
     "name": "stdout",
     "output_type": "stream",
     "text": [
      "n sayisi giriniz=5\n",
      "5 6\n"
     ]
    }
   ],
   "source": [
    "n=int(input('n sayisi giriniz='))\n",
    "def compute_sum1(n):\n",
    "    mysum=0\n",
    "    for i in range(0,n,2):\n",
    "        mysum=mysum+i\n",
    "    return mysum\n",
    "print(n,compute_sum1(n))"
   ]
  },
  {
   "cell_type": "code",
   "execution_count": 7,
   "id": "b83739b4",
   "metadata": {},
   "outputs": [
    {
     "name": "stdout",
     "output_type": "stream",
     "text": [
      "n sayisi giriniz=20\n",
      "20 90\n"
     ]
    }
   ],
   "source": [
    "n=int(input('n sayisi giriniz='))\n",
    "def compute_sum4e(n):\n",
    "    return sum([k for k in range(0,n,2)])\n",
    "print(n,compute_sum1(n))"
   ]
  },
  {
   "cell_type": "code",
   "execution_count": 8,
   "id": "fbae22c2",
   "metadata": {},
   "outputs": [
    {
     "name": "stdout",
     "output_type": "stream",
     "text": [
      "n sayisi giriniz=20\n",
      "20 90\n"
     ]
    }
   ],
   "source": [
    "n=int(input('n sayisi giriniz='))\n",
    "def compute_sum5(n):\n",
    "    import numpy as np\n",
    "    return np.sum(2*np.arange(0,(n+1)//2))\n",
    "print(n,compute_sum5(n))"
   ]
  },
  {
   "cell_type": "code",
   "execution_count": 11,
   "id": "1d839193",
   "metadata": {},
   "outputs": [
    {
     "data": {
      "text/latex": [
       "$\\displaystyle 2 x + 11 y$"
      ],
      "text/plain": [
       "2*x + 11*y"
      ]
     },
     "execution_count": 11,
     "metadata": {},
     "output_type": "execute_result"
    }
   ],
   "source": [
    "from sympy import Symbol\n",
    "x=Symbol(\"x\")\n",
    "y=Symbol(\"y\")\n",
    "x+y+x+10*y"
   ]
  },
  {
   "cell_type": "code",
   "execution_count": 12,
   "id": "333ced0b",
   "metadata": {},
   "outputs": [
    {
     "data": {
      "text/latex": [
       "$\\displaystyle 2 y + 3 z$"
      ],
      "text/plain": [
       "2*y + 3*z"
      ]
     },
     "execution_count": 12,
     "metadata": {},
     "output_type": "execute_result"
    }
   ],
   "source": [
    "import sympy\n",
    "x,y,z=sympy.symbols(\"x,y,z\")\n",
    "x+2*y+3*z-x"
   ]
  },
  {
   "cell_type": "code",
   "execution_count": 15,
   "id": "16b44eaa",
   "metadata": {},
   "outputs": [
    {
     "data": {
      "text/latex": [
       "$\\displaystyle 16$"
      ],
      "text/plain": [
       "16"
      ]
     },
     "execution_count": 15,
     "metadata": {},
     "output_type": "execute_result"
    }
   ],
   "source": [
    "from sympy import symbols\n",
    "x,y=sympy.symbols(\"x,y\")\n",
    "(x+2*y).subs(x,10).subs(y,3)\n",
    "(x+2*y).subs({x:10,y:3})"
   ]
  },
  {
   "cell_type": "code",
   "execution_count": 17,
   "id": "9dbd9cbf",
   "metadata": {},
   "outputs": [
    {
     "data": {
      "text/latex": [
       "$\\displaystyle 10$"
      ],
      "text/plain": [
       "10"
      ]
     },
     "execution_count": 17,
     "metadata": {},
     "output_type": "execute_result"
    }
   ],
   "source": [
    "from sympy import symbols\n",
    "x,y=symbols(\"x,y\")\n",
    "myterm=3*x+y**2\n",
    "myterm.subs(x,y).subs(y,2)"
   ]
  },
  {
   "cell_type": "code",
   "execution_count": 21,
   "id": "0f0dce52",
   "metadata": {},
   "outputs": [
    {
     "name": "stdout",
     "output_type": "stream",
     "text": [
      "0.1\n"
     ]
    }
   ],
   "source": [
    "from fractions import Fraction\n",
    "a=float(Fraction(1,10))\n",
    "print(a)"
   ]
  },
  {
   "cell_type": "code",
   "execution_count": 30,
   "id": "90c5d812",
   "metadata": {},
   "outputs": [
    {
     "data": {
      "text/latex": [
       "$\\displaystyle 263.66015625$"
      ],
      "text/plain": [
       "263.660156250000"
      ]
     },
     "execution_count": 30,
     "metadata": {},
     "output_type": "execute_result"
    }
   ],
   "source": [
    "from sympy import Symbol,exp,sin,sqrt,diff,cos\n",
    "x=Symbol(\"x\")\n",
    "y=Symbol(\"y\")\n",
    "diff(10+3*x+4*y+10*x**2+x**9,x).subs(x,1.5)\n"
   ]
  },
  {
   "cell_type": "code",
   "execution_count": 36,
   "id": "763aff99",
   "metadata": {},
   "outputs": [
    {
     "data": {
      "text/latex": [
       "$\\displaystyle x \\left(2160 x^{6} - x^{4} e^{- \\frac{x^{2}}{2}} + 9 x^{2} e^{- \\frac{x^{2}}{2}} - 12 e^{- \\frac{x^{2}}{2}}\\right)$"
      ],
      "text/plain": [
       "x*(2160*x**6 - x**4*exp(-x**2/2) + 9*x**2*exp(-x**2/2) - 12*exp(-x**2/2))"
      ]
     },
     "execution_count": 36,
     "metadata": {},
     "output_type": "execute_result"
    }
   ],
   "source": [
    "diff(exp(-x**2/2)*x**2+3*x*x**9,x,x,x)"
   ]
  },
  {
   "cell_type": "code",
   "execution_count": 39,
   "id": "e0490f40",
   "metadata": {},
   "outputs": [
    {
     "data": {
      "text/latex": [
       "$\\displaystyle 72 x$"
      ],
      "text/plain": [
       "72*x"
      ]
     },
     "execution_count": 39,
     "metadata": {},
     "output_type": "execute_result"
    }
   ],
   "source": [
    "diff(3*x**4,x,x,x)"
   ]
  },
  {
   "cell_type": "code",
   "execution_count": 41,
   "id": "83ee33c1",
   "metadata": {},
   "outputs": [
    {
     "data": {
      "text/latex": [
       "$\\displaystyle 84 x^{3} y^{6}$"
      ],
      "text/plain": [
       "84*x**3*y**6"
      ]
     },
     "execution_count": 41,
     "metadata": {},
     "output_type": "execute_result"
    }
   ],
   "source": [
    "diff(3*x**4*y**7,x,y)"
   ]
  },
  {
   "cell_type": "code",
   "execution_count": 44,
   "id": "865be710",
   "metadata": {},
   "outputs": [
    {
     "name": "stdout",
     "output_type": "stream",
     "text": [
      "x/sqrt(sigma**2 + x**2 + y**2)\n",
      "0\n"
     ]
    }
   ],
   "source": [
    "from sympy import Symbol,exp,sin,sqrt,diff,cos\n",
    "x=Symbol(\"x\")\n",
    "y=Symbol(\"y\")\n",
    "r=sqrt(x**2+y**2)\n",
    "def phi(x,y,sigma):\n",
    "    return sqrt(x**2+y**2+sigma**2)\n",
    "sigma=Symbol(\"sigma\")\n",
    "mydfdx=x/sqrt(r**2+sigma**2)\n",
    "print(diff(phi(x,y,sigma),x))\n",
    "fark=diff(phi(x,y,sigma),x)-mydfdx\n",
    "print(fark)"
   ]
  },
  {
   "cell_type": "code",
   "execution_count": 53,
   "id": "8b29d0d6",
   "metadata": {},
   "outputs": [
    {
     "data": {
      "text/latex": [
       "$\\displaystyle e^{- \\frac{x^{2}}{2}}$"
      ],
      "text/plain": [
       "exp(-x**2/2)"
      ]
     },
     "execution_count": 53,
     "metadata": {},
     "output_type": "execute_result"
    }
   ],
   "source": [
    "from sympy import integrate,log\n",
    "integrate(-x*exp(-x**2/2),x)"
   ]
  },
  {
   "cell_type": "code",
   "execution_count": 56,
   "id": "504fe633",
   "metadata": {},
   "outputs": [
    {
     "data": {
      "text/plain": [
       "2.6666666666666665"
      ]
     },
     "execution_count": 56,
     "metadata": {},
     "output_type": "execute_result"
    }
   ],
   "source": [
    "from sympy import integrate,log\n",
    "float(integrate(x**2,(x,0,2)))"
   ]
  },
  {
   "cell_type": "code",
   "execution_count": 57,
   "id": "b8d39901",
   "metadata": {},
   "outputs": [
    {
     "data": {
      "text/latex": [
       "$\\displaystyle y{\\left(x \\right)} = C_{1} e^{- 5 x}$"
      ],
      "text/plain": [
       "Eq(y(x), C1*exp(-5*x))"
      ]
     },
     "execution_count": 57,
     "metadata": {},
     "output_type": "execute_result"
    }
   ],
   "source": [
    "from sympy import Symbol,dsolve,Function,Derivative,Eq\n",
    "y=Function(\"y\")\n",
    "x=Symbol(\"x\")\n",
    "y_=Derivative(y(x),x)\n",
    "dsolve(y_+5*y(x),y(x))\n"
   ]
  },
  {
   "cell_type": "code",
   "execution_count": 60,
   "id": "6b29d05d",
   "metadata": {},
   "outputs": [
    {
     "data": {
      "text/latex": [
       "$\\displaystyle 1.11729533119247 - 0.438791280945186 \\left(x - 0.5\\right)^{2} + 0.0799042564340338 \\left(x - 0.5\\right)^{3} + 0.0365659400787655 \\left(x - 0.5\\right)^{4} - 0.00399521282170169 \\left(x - 0.5\\right)^{5} - 0.00121886466929218 \\left(x - 0.5\\right)^{6} + 9.51241148024212 \\cdot 10^{-5} \\left(x - 0.5\\right)^{7} + 2.17654405230747 \\cdot 10^{-5} \\left(x - 0.5\\right)^{8} - 1.32116826114474 \\cdot 10^{-6} \\left(x - 0.5\\right)^{9} - 0.479425538604203 x + O\\left(\\left(x - 0.5\\right)^{10}; x\\rightarrow 0.5\\right)$"
      ],
      "text/plain": [
       "1.11729533119247 - 0.438791280945186*(x - 0.5)**2 + 0.0799042564340338*(x - 0.5)**3 + 0.0365659400787655*(x - 0.5)**4 - 0.00399521282170169*(x - 0.5)**5 - 0.00121886466929218*(x - 0.5)**6 + 9.51241148024212e-5*(x - 0.5)**7 + 2.17654405230747e-5*(x - 0.5)**8 - 1.32116826114474e-6*(x - 0.5)**9 - 0.479425538604203*x + O((x - 0.5)**10, (x, 0.5))"
      ]
     },
     "execution_count": 60,
     "metadata": {},
     "output_type": "execute_result"
    }
   ],
   "source": [
    "x=Symbol('x')\n",
    "cos(x).series(x,0.5,10)"
   ]
  },
  {
   "cell_type": "code",
   "execution_count": 69,
   "id": "30be78ba",
   "metadata": {},
   "outputs": [
    {
     "name": "stdout",
     "output_type": "stream",
     "text": [
      "Matrix([[3, 7], [4, -2]])\n",
      "Matrix([[1/17, 7/34], [2/17, -3/34]])\n",
      "Matrix([[12*z], [5*z]])\n",
      "Matrix([[59*z/34], [33*z/34]])\n",
      "Matrix([[5.726], [3.203]])\n"
     ]
    }
   ],
   "source": [
    "from sympy import Symbol,Matrix,evalf\n",
    "x=Symbol(\"x\")\n",
    "y=Symbol(\"y\")\n",
    "z=Symbol(\"z\")\n",
    "A=Matrix(([3,7],[4,-2]))\n",
    "print(A)\n",
    "print(A.inv())\n",
    "b=Matrix((12*z,5*z))\n",
    "print(b)\n",
    "x=A.inv()*b\n",
    "print(x)\n",
    "print(x.subs({z:3.3}).evalf(4))"
   ]
  },
  {
   "cell_type": "code",
   "execution_count": 71,
   "id": "2fc5ed37",
   "metadata": {},
   "outputs": [
    {
     "data": {
      "text/plain": [
       "[-1, 0, 1]"
      ]
     },
     "execution_count": 71,
     "metadata": {},
     "output_type": "execute_result"
    }
   ],
   "source": [
    "import sympy\n",
    "x,y,z=sympy.symbols(\"x,y,z\")\n",
    "eq=x-x**3\n",
    "sympy.solve(eq,x)"
   ]
  },
  {
   "cell_type": "code",
   "execution_count": 77,
   "id": "be2c930b",
   "metadata": {},
   "outputs": [
    {
     "name": "stdout",
     "output_type": "stream",
     "text": [
      "\\frac{y^{2}}{x^{3}} - \\frac{y}{x^{2}} + \\frac{1}{x} + O\\left(y^{3}\\right)\n"
     ]
    }
   ],
   "source": [
    "from sympy import series,Symbol,latex\n",
    "x=Symbol(\"x\")\n",
    "y=Symbol(\"y\")\n",
    "series(1/(x+y),y,0,3)\n",
    "print (latex(series(1/(x+y),y,0,3)))"
   ]
  },
  {
   "cell_type": "code",
   "execution_count": 74,
   "id": "ab12dc76",
   "metadata": {},
   "outputs": [
    {
     "ename": "NameError",
     "evalue": "name 'latex' is not defined",
     "output_type": "error",
     "traceback": [
      "\u001b[1;31m---------------------------------------------------------------------------\u001b[0m",
      "\u001b[1;31mNameError\u001b[0m                                 Traceback (most recent call last)",
      "\u001b[1;32m<ipython-input-74-56f3af2de848>\u001b[0m in \u001b[0;36m<module>\u001b[1;34m\u001b[0m\n\u001b[1;32m----> 1\u001b[1;33m \u001b[0mprint\u001b[0m \u001b[1;33m(\u001b[0m\u001b[0mlatex\u001b[0m\u001b[1;33m(\u001b[0m\u001b[0mseries\u001b[0m\u001b[1;33m(\u001b[0m\u001b[1;36m1\u001b[0m\u001b[1;33m/\u001b[0m\u001b[1;33m(\u001b[0m\u001b[0mx\u001b[0m\u001b[1;33m+\u001b[0m\u001b[0my\u001b[0m\u001b[1;33m)\u001b[0m\u001b[1;33m,\u001b[0m\u001b[0my\u001b[0m\u001b[1;33m,\u001b[0m\u001b[1;36m0\u001b[0m\u001b[1;33m,\u001b[0m\u001b[1;36m3\u001b[0m\u001b[1;33m)\u001b[0m\u001b[1;33m)\u001b[0m\u001b[1;33m)\u001b[0m\u001b[1;33m\u001b[0m\u001b[1;33m\u001b[0m\u001b[0m\n\u001b[0m",
      "\u001b[1;31mNameError\u001b[0m: name 'latex' is not defined"
     ]
    }
   ],
   "source": []
  },
  {
   "cell_type": "code",
   "execution_count": null,
   "id": "c5fc146f",
   "metadata": {},
   "outputs": [],
   "source": []
  }
 ],
 "metadata": {
  "kernelspec": {
   "display_name": "Python 3",
   "language": "python",
   "name": "python3"
  },
  "language_info": {
   "codemirror_mode": {
    "name": "ipython",
    "version": 3
   },
   "file_extension": ".py",
   "mimetype": "text/x-python",
   "name": "python",
   "nbconvert_exporter": "python",
   "pygments_lexer": "ipython3",
   "version": "3.8.8"
  }
 },
 "nbformat": 4,
 "nbformat_minor": 5
}

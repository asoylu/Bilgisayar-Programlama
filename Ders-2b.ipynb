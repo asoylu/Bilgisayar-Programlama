{
 "cells": [
  {
   "cell_type": "code",
   "execution_count": 4,
   "id": "e68a5d73",
   "metadata": {},
   "outputs": [
    {
     "name": "stdout",
     "output_type": "stream",
     "text": [
      "adınız=s\n",
      "kilonuz=120\n",
      "boyunuz=1.8\n",
      "s kilo endeksin 37.03703703703704 ve kilo degerlendirmen False\n"
     ]
    }
   ],
   "source": [
    "name=input('adınız=')\n",
    "kg=float(input('kilonuz='))\n",
    "hg=float(input('boyunuz='))\n",
    "index=kg/(hg**2)\n",
    "zayıf=(index>=0) and (index<=0.84)\n",
    "print(f'{name} kilo endeksin {index} ve kilo degerlendirmen {zayıf}')"
   ]
  },
  {
   "cell_type": "code",
   "execution_count": 8,
   "id": "a15e25e2",
   "metadata": {},
   "outputs": [
    {
     "name": "stdout",
     "output_type": "stream",
     "text": [
      "True\n"
     ]
    }
   ],
   "source": [
    "x=['muz','elma','armut']\n",
    "print ('armut' in x)"
   ]
  },
  {
   "cell_type": "code",
   "execution_count": 2,
   "id": "edeaec6e",
   "metadata": {},
   "outputs": [
    {
     "name": "stdout",
     "output_type": "stream",
     "text": [
      "Main program starts here\n",
      "4*4=%s 16\n",
      "In last line of program--bye\n"
     ]
    }
   ],
   "source": [
    "def f(x):\n",
    "    'function that computes and returns x*x'\n",
    "    return x*x\n",
    "print('Main program starts here')\n",
    "print('4*4=%s',f(4))\n",
    "print('In last line of program--bye')"
   ]
  },
  {
   "cell_type": "code",
   "execution_count": 4,
   "id": "3fa2a39e",
   "metadata": {},
   "outputs": [
    {
     "name": "stdout",
     "output_type": "stream",
     "text": [
      "True\n"
     ]
    },
    {
     "data": {
      "text/plain": [
       "bool"
      ]
     },
     "execution_count": 4,
     "metadata": {},
     "output_type": "execute_result"
    }
   ],
   "source": [
    "a=True\n",
    "print(a)\n",
    "type(a)"
   ]
  },
  {
   "cell_type": "code",
   "execution_count": 7,
   "id": "1c4d1d4e",
   "metadata": {},
   "outputs": [
    {
     "data": {
      "text/plain": [
       "False"
      ]
     },
     "execution_count": 7,
     "metadata": {},
     "output_type": "execute_result"
    }
   ],
   "source": [
    "False and True"
   ]
  },
  {
   "cell_type": "code",
   "execution_count": 11,
   "id": "9af34eb2",
   "metadata": {},
   "outputs": [
    {
     "data": {
      "text/plain": [
       "False"
      ]
     },
     "execution_count": 11,
     "metadata": {},
     "output_type": "execute_result"
    }
   ],
   "source": [
    "x=30\n",
    "x>15\n",
    "x==40"
   ]
  },
  {
   "cell_type": "code",
   "execution_count": 12,
   "id": "df886247",
   "metadata": {},
   "outputs": [
    {
     "data": {
      "text/plain": [
       "True"
      ]
     },
     "execution_count": 12,
     "metadata": {},
     "output_type": "execute_result"
    }
   ],
   "source": [
    "not x==42"
   ]
  },
  {
   "cell_type": "code",
   "execution_count": 13,
   "id": "dc0d2d90",
   "metadata": {},
   "outputs": [
    {
     "data": {
      "text/plain": [
       "True"
      ]
     },
     "execution_count": 13,
     "metadata": {},
     "output_type": "execute_result"
    }
   ],
   "source": [
    "x!=42"
   ]
  },
  {
   "cell_type": "markdown",
   "id": "a88b633a",
   "metadata": {},
   "source": [
    "# If then else:"
   ]
  },
  {
   "cell_type": "code",
   "execution_count": 17,
   "id": "feacaa19",
   "metadata": {},
   "outputs": [
    {
     "name": "stdout",
     "output_type": "stream",
     "text": [
      "a negatiftir\n"
     ]
    }
   ],
   "source": [
    "a=-34\n",
    "if a>=0:\n",
    "    print('a pozitiftir')\n",
    "else:\n",
    "    print('a negatiftir')"
   ]
  },
  {
   "cell_type": "code",
   "execution_count": 20,
   "id": "7e18c08a",
   "metadata": {},
   "outputs": [
    {
     "name": "stdout",
     "output_type": "stream",
     "text": [
      "sayiyi giriniz= 0\n",
      "a sıfırdır\n"
     ]
    }
   ],
   "source": [
    "a=int(input('sayiyi giriniz= '))\n",
    "if a==0:\n",
    "    print('a sıfırdır')\n",
    "elif a<0:\n",
    "    print('a negatiftir')\n",
    "else:\n",
    "    print('a pozitiftir')"
   ]
  },
  {
   "cell_type": "markdown",
   "id": "de5c4d1f",
   "metadata": {},
   "source": [
    "# For and While"
   ]
  },
  {
   "cell_type": "code",
   "execution_count": 23,
   "id": "75642341",
   "metadata": {},
   "outputs": [
    {
     "name": "stdout",
     "output_type": "stream",
     "text": [
      "dog DOG\n",
      "cat CAT\n",
      "mouse MOUSE\n"
     ]
    }
   ],
   "source": [
    "for a in ['dog','cat','mouse']:\n",
    "    print (a,a.upper())"
   ]
  },
  {
   "cell_type": "code",
   "execution_count": 25,
   "id": "c3d8b851",
   "metadata": {},
   "outputs": [
    {
     "name": "stdout",
     "output_type": "stream",
     "text": [
      "5\n",
      "10\n",
      "15\n",
      "20\n",
      "25\n",
      "30\n",
      "35\n",
      "40\n",
      "45\n",
      "50\n",
      "55\n",
      "60\n",
      "65\n",
      "70\n",
      "75\n",
      "80\n",
      "85\n",
      "90\n",
      "95\n"
     ]
    }
   ],
   "source": [
    "for i in range(5,100,5):\n",
    "    print(i)"
   ]
  },
  {
   "cell_type": "raw",
   "id": "03ee42ef",
   "metadata": {},
   "source": [
    "Pound örneği:"
   ]
  },
  {
   "cell_type": "code",
   "execution_count": 28,
   "id": "2d9cd912",
   "metadata": {},
   "outputs": [
    {
     "name": "stdout",
     "output_type": "stream",
     "text": [
      "15.0 207.89281794113688\n"
     ]
    }
   ],
   "source": [
    "mymoney=100.00\n",
    "rate=1.05\n",
    "years=0.0\n",
    "while mymoney<200:\n",
    "    mymoney=mymoney*rate\n",
    "    years=years+1\n",
    "print (years,mymoney)"
   ]
  },
  {
   "cell_type": "code",
   "execution_count": 32,
   "id": "43986240",
   "metadata": {},
   "outputs": [
    {
     "name": "stdout",
     "output_type": "stream",
     "text": [
      "very cold\n"
     ]
    }
   ],
   "source": [
    "t=-22.5\n",
    "if t<-20:\n",
    "    print ('very cold')"
   ]
  },
  {
   "cell_type": "code",
   "execution_count": 34,
   "id": "a625dc6c",
   "metadata": {},
   "outputs": [
    {
     "name": "stdout",
     "output_type": "stream",
     "text": [
      "username giriniz=soylu\n",
      "parola giriniz=45\n",
      "kullanıcı ya da parola yanlıştır.\n"
     ]
    }
   ],
   "source": [
    "username=input('username giriniz=')\n",
    "password=input('parola giriniz=')\n",
    "isLoggedin=(username=='asimsoylu') and (password=='12345')\n",
    "if isLoggedin:\n",
    "    print('Hoşgeldiniz')\n",
    "else:\n",
    "    print('kullanıcı ya da parola yanlıştır.')"
   ]
  },
  {
   "cell_type": "code",
   "execution_count": 37,
   "id": "ed644ebb",
   "metadata": {},
   "outputs": [
    {
     "name": "stdout",
     "output_type": "stream",
     "text": [
      "x:2\n",
      "y:2\n",
      "x y ye eşitttir\n"
     ]
    }
   ],
   "source": [
    "x=int(input('x:'))\n",
    "y=int(input('y:'))\n",
    "if x>y:\n",
    "    print('x y den büyüktür')\n",
    "elif x==y:\n",
    "    print('x y ye eşitttir')\n",
    "else:\n",
    "    print ('x y den küçüktür')"
   ]
  },
  {
   "cell_type": "code",
   "execution_count": 41,
   "id": "69f54685",
   "metadata": {},
   "outputs": [
    {
     "name": "stdout",
     "output_type": "stream",
     "text": [
      "isminiz:asım\n",
      "yaşınız:21\n",
      "eğitiminiz:e\n",
      "asım ehliyet alamazsınız.eğitim yetersiz\n"
     ]
    }
   ],
   "source": [
    "isim=input('isminiz:')\n",
    "yas=int(input('yaşınız:'))\n",
    "egitim=input('eğitiminiz:')\n",
    "if yas>=18:\n",
    "    if (egitim=='lise') or (egitim=='universite'):\n",
    "        print(f'{isim} ehliyet alabilirsin.')\n",
    "    else:\n",
    "        print(f'{isim} ehliyet alamazsınız.eğitim yetersiz')\n",
    "else:\n",
    "    print(f'{isim} ehliyet alamazsınız.yaşınız tutmuyor') "
   ]
  },
  {
   "cell_type": "code",
   "execution_count": null,
   "id": "108c6e94",
   "metadata": {},
   "outputs": [],
   "source": []
  }
 ],
 "metadata": {
  "kernelspec": {
   "display_name": "Python 3",
   "language": "python",
   "name": "python3"
  },
  "language_info": {
   "codemirror_mode": {
    "name": "ipython",
    "version": 3
   },
   "file_extension": ".py",
   "mimetype": "text/x-python",
   "name": "python",
   "nbconvert_exporter": "python",
   "pygments_lexer": "ipython3",
   "version": "3.8.8"
  }
 },
 "nbformat": 4,
 "nbformat_minor": 5
}
